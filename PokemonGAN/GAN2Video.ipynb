{
  "nbformat": 4,
  "nbformat_minor": 0,
  "metadata": {
    "colab": {
      "name": "GAN2Video.ipynb",
      "provenance": []
    },
    "kernelspec": {
      "name": "python3",
      "display_name": "Python 3"
    },
    "accelerator": "GPU"
  },
  "cells": [
    {
      "cell_type": "markdown",
      "metadata": {
        "id": "hywIx37fG4Al",
        "colab_type": "text"
      },
      "source": [
        "## Mounting the drive"
      ]
    },
    {
      "cell_type": "code",
      "metadata": {
        "id": "hQesAPMr2bNr",
        "colab_type": "code",
        "colab": {
          "base_uri": "https://localhost:8080/",
          "height": 34
        },
        "outputId": "9588644d-c942-403b-a35b-849f4c4cf0cb"
      },
      "source": [
        "from google.colab import drive\n",
        "import os\n",
        "drive.mount('/content/gdrive')"
      ],
      "execution_count": 102,
      "outputs": [
        {
          "output_type": "stream",
          "text": [
            "Drive already mounted at /content/gdrive; to attempt to forcibly remount, call drive.mount(\"/content/gdrive\", force_remount=True).\n"
          ],
          "name": "stdout"
        }
      ]
    },
    {
      "cell_type": "code",
      "metadata": {
        "id": "Kg4FVx_m3E2D",
        "colab_type": "code",
        "colab": {
          "base_uri": "https://localhost:8080/",
          "height": 34
        },
        "outputId": "36e8170c-42b9-4217-db60-9f2e78ee12e3"
      },
      "source": [
        "import os\n",
        "os.chdir('/content/gdrive/My Drive/Datasets/sample_images_7/')\n",
        "i = 0\n",
        "for file in os.listdir(os.getcwd()):\n",
        "  i += 1\n",
        "  # if 'pokemon' in file:\n",
        "  # print(file)\n",
        "    # os.system('rm -rf ' + file)\n",
        "print(i)"
      ],
      "execution_count": 159,
      "outputs": [
        {
          "output_type": "stream",
          "text": [
            "170\n"
          ],
          "name": "stdout"
        }
      ]
    },
    {
      "cell_type": "code",
      "metadata": {
        "id": "2mgSaZ8Z4cJ7",
        "colab_type": "code",
        "colab": {
          "base_uri": "https://localhost:8080/",
          "height": 34
        },
        "outputId": "25429dcb-1647-4c29-b42c-04038351e922"
      },
      "source": [
        "os.system('cp new_train_samples.pkl new_train_samples_copy.pkl')"
      ],
      "execution_count": 40,
      "outputs": [
        {
          "output_type": "execute_result",
          "data": {
            "text/plain": [
              "0"
            ]
          },
          "metadata": {
            "tags": []
          },
          "execution_count": 40
        }
      ]
    },
    {
      "cell_type": "markdown",
      "metadata": {
        "id": "nfLSVu7mGqlJ",
        "colab_type": "text"
      },
      "source": [
        "## Selecting Files\n",
        "Since I have two different pickle files(trained at two different time). I load each separately to get all the images from 170 samples"
      ]
    },
    {
      "cell_type": "code",
      "metadata": {
        "id": "AHcPvPu13uZZ",
        "colab_type": "code",
        "colab": {
          "base_uri": "https://localhost:8080/",
          "height": 34
        },
        "outputId": "86c92a9b-2efb-4dd4-d0a2-697deed848d8"
      },
      "source": [
        "import torch\n",
        "import pickle as pkl\n",
        "import matplotlib.pyplot as plt\n",
        "%matplotlib inline\n",
        "pkl_file = 'new_train_samples_copy.pkl'    ## change file\n",
        "img_range = 50 \n",
        "img_index = 7   ## only change this\n",
        "folder_name = 'sample_images_' + str(img_index)\n",
        "head = 0\n",
        "if 'new' in pkl_file :\n",
        "  head = 50\n",
        "  img_range = 120\n",
        "\n",
        "samples_pkl_in = open('/content/gdrive/My Drive/Datasets/' + pkl_file, 'rb')\n",
        "samples = pkl.load(samples_pkl_in)\n",
        "samples_pkl_in.close()\n",
        "\n",
        "print(head, img_range, len(samples))\n"
      ],
      "execution_count": 156,
      "outputs": [
        {
          "output_type": "stream",
          "text": [
            "50 120 120\n"
          ],
          "name": "stdout"
        }
      ]
    },
    {
      "cell_type": "code",
      "metadata": {
        "id": "W5Q_PJoE64Ev",
        "colab_type": "code",
        "colab": {}
      },
      "source": [
        "import numpy as np\n",
        "from PIL import Image"
      ],
      "execution_count": 0,
      "outputs": []
    },
    {
      "cell_type": "markdown",
      "metadata": {
        "id": "Cpk4xKgpGi5F",
        "colab_type": "text"
      },
      "source": [
        "**Function to save the files for a each image in a sample.**"
      ]
    },
    {
      "cell_type": "code",
      "metadata": {
        "id": "1DupScnN4CeC",
        "colab_type": "code",
        "colab": {}
      },
      "source": [
        "def view_samples(epoch, samples, index):\n",
        "    # fig, axes = plt.subplots(figsize=(16,4), nrows=1, ncols=8, sharey=True, sharex=True)\n",
        "    img = samples[epoch][img_index]\n",
        "    img = img.detach().cpu().numpy()\n",
        "    img = np.transpose(img, (1, 2, 0))\n",
        "    img = ((img +1)*255 / (2)).astype(np.uint8) # rescale to pixel range (0-255)\n",
        "    new_img = Image.fromarray(img)\n",
        "    new_img.save('/content/gdrive/My Drive/Datasets/' + folder_name + '/image_' + str(index+head) + '.jpg')\n",
        "    # plt.imshow(img)\n",
        "    # plt.show()\n",
        "    # for ax, img in zip(axes.flatten(), samples[epoch]):\n",
        "    #   img = img.detach().cpu().numpy()\n",
        "    #   img = np.transpose(img, (1, 2, 0))\n",
        "    #   img = ((img +1)*255 / (2)).astype(np.uint8) # rescale to pixel range (0-255)\n",
        "    #   # print(min(img), max(img))\n",
        "    #   ax.xaxis.set_visible(False)\n",
        "    #   ax.yaxis.set_visible(False)\n",
        "    #   im = ax.imshow(img.reshape((128,128,3)))\n",
        "    \n",
        "    # plt.show()"
      ],
      "execution_count": 0,
      "outputs": []
    },
    {
      "cell_type": "markdown",
      "metadata": {
        "id": "tgqIio0vGf7G",
        "colab_type": "text"
      },
      "source": [
        "## Exporting all the Images"
      ]
    },
    {
      "cell_type": "code",
      "metadata": {
        "id": "WIXX32lX6kMQ",
        "colab_type": "code",
        "colab": {}
      },
      "source": [
        "for i in range(img_range):\n",
        "  _ = view_samples(i, samples, i)\n"
      ],
      "execution_count": 0,
      "outputs": []
    },
    {
      "cell_type": "markdown",
      "metadata": {
        "id": "jZnbSwhUGZrb",
        "colab_type": "text"
      },
      "source": [
        "## Converting images to video using openCV Video Writer"
      ]
    },
    {
      "cell_type": "code",
      "metadata": {
        "id": "V0JQx8lg6vII",
        "colab_type": "code",
        "colab": {}
      },
      "source": [
        "import cv2\n",
        "import numpy as np\n",
        "import glob\n",
        " \n",
        "img_array = []\n",
        "for filename in glob.glob('/content/gdrive/My Drive/Datasets/sample_images_2/*.jpg'):\n",
        "    img = cv2.imread(filename)\n",
        "    height, width, layers = img.shape\n",
        "    size = (width,height)\n",
        "    img_array.append(img)\n",
        " \n",
        " \n",
        "out = cv2.VideoWriter('/content/gdrive/My Drive/Datasets/project_2.avi',cv2.VideoWriter_fourcc(*'DIVX'), 15, size)\n",
        " \n",
        "for i in range(len(img_array)):\n",
        "    out.write(img_array[i])\n",
        "out.release()"
      ],
      "execution_count": 0,
      "outputs": []
    },
    {
      "cell_type": "code",
      "metadata": {
        "id": "U0XqD2urFnEs",
        "colab_type": "code",
        "colab": {}
      },
      "source": [
        ""
      ],
      "execution_count": 0,
      "outputs": []
    }
  ]
}